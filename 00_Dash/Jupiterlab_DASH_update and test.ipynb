{
 "cells": [
  {
   "cell_type": "markdown",
   "metadata": {},
   "source": [
    "### This page is a simple test to verify that jupyter image is properly configured to display DASH app\n",
    "\n",
    "1 - missing module : jupyter_dash\n",
    "\n",
    "module jupyter_dash can be added to the docker image or be installed with pip (with pip, you have to reinstall with each jupyter server launch) \n",
    "\n",
    "2 - open the 8050 port in jupyter docker run : add -p 8050:8050 to run command (careful with port conflict id another image uses this specific port)"
   ]
  },
  {
   "cell_type": "code",
   "execution_count": 1,
   "metadata": {},
   "outputs": [
    {
     "name": "stdout",
     "output_type": "stream",
     "text": [
      "Package                       Version\n",
      "----------------------------- -------------------\n",
      "alembic                       1.4.3\n",
      "ansi2html                     1.6.0\n",
      "argon2-cffi                   20.1.0\n",
      "async-generator               1.10\n",
      "attrs                         20.2.0\n",
      "backcall                      0.2.0\n",
      "backports.functools-lru-cache 1.6.1\n",
      "beautifulsoup4                4.9.1\n",
      "bleach                        3.2.1\n",
      "blinker                       1.4\n",
      "bokeh                         2.1.1\n",
      "Bottleneck                    1.3.2\n",
      "Brotli                        1.0.9\n",
      "brotlipy                      0.7.0\n",
      "certifi                       2020.6.20\n",
      "certipy                       0.1.3\n",
      "cffi                          1.14.3\n",
      "chardet                       3.0.4\n",
      "click                         7.1.2\n",
      "cloudpickle                   1.5.0\n",
      "conda                         4.8.3\n",
      "conda-package-handling        1.6.1\n",
      "cryptography                  3.1\n",
      "cycler                        0.10.0\n",
      "Cython                        0.29.21\n",
      "cytoolz                       0.10.1\n",
      "dash                          1.19.0\n",
      "dash-core-components          1.15.0\n",
      "dash-html-components          1.1.2\n",
      "dash-renderer                 1.9.0\n",
      "dash-table                    4.11.2\n",
      "dask                          2.20.0\n",
      "decorator                     4.4.2\n",
      "defusedxml                    0.6.0\n",
      "dill                          0.3.2\n",
      "distributed                   2.27.0\n",
      "entrypoints                   0.3\n",
      "fastcache                     1.1.0\n",
      "findspark                     1.3.0\n",
      "Flask                         1.1.2\n",
      "Flask-Compress                1.8.0\n",
      "fsspec                        0.8.2\n",
      "future                        0.18.2\n",
      "gmpy2                         2.1.0b1\n",
      "h5py                          2.10.0\n",
      "HeapDict                      1.0.1\n",
      "idna                          2.10\n",
      "imagecodecs                   2020.5.30\n",
      "imageio                       2.9.0\n",
      "importlib-metadata            1.7.0\n",
      "ipykernel                     5.3.4\n",
      "ipympl                        0.5.8\n",
      "ipyparallel                   6.3.0\n",
      "ipython                       7.18.1\n",
      "ipython-genutils              0.2.0\n",
      "ipywidgets                    7.5.1\n",
      "itsdangerous                  1.1.0\n",
      "jedi                          0.17.2\n",
      "Jinja2                        2.11.2\n",
      "joblib                        0.16.0\n",
      "json5                         0.9.4\n",
      "jsonschema                    3.2.0\n",
      "jupyter-client                6.1.7\n",
      "jupyter-core                  4.6.3\n",
      "jupyter-dash                  0.4.0\n",
      "jupyter-telemetry             0.0.5\n",
      "jupyterhub                    1.1.0\n",
      "jupyterlab                    2.2.5\n",
      "jupyterlab-pygments           0.1.1\n",
      "jupyterlab-server             1.2.0\n",
      "kiwisolver                    1.2.0\n",
      "llvmlite                      0.31.0\n",
      "locket                        0.2.0\n",
      "Mako                          1.1.3\n",
      "MarkupSafe                    1.1.1\n",
      "matplotlib                    3.2.2\n",
      "metakernel                    0.27.0\n",
      "mistune                       0.8.4\n",
      "mock                          4.0.2\n",
      "mpmath                        1.1.0\n",
      "msgpack                       1.0.0\n",
      "nbclient                      0.5.0\n",
      "nbconvert                     6.0.3\n",
      "nbformat                      5.0.7\n",
      "nest-asyncio                  1.4.0\n",
      "networkx                      2.5\n",
      "notebook                      6.1.3\n",
      "numba                         0.48.0\n",
      "numexpr                       2.7.1\n",
      "numpy                         1.19.1\n",
      "oauthlib                      3.0.1\n",
      "olefile                       0.46\n",
      "packaging                     20.4\n",
      "pamela                        1.0.0\n",
      "pandas                        1.1.2\n",
      "pandocfilters                 1.4.2\n",
      "parso                         0.7.1\n",
      "partd                         1.1.0\n",
      "patsy                         0.5.1\n",
      "pexpect                       4.8.0\n",
      "pickleshare                   0.7.5\n",
      "Pillow                        7.2.0\n",
      "pip                           20.2.3\n",
      "plotly                        4.14.3\n",
      "portalocker                   1.7.0\n",
      "prometheus-client             0.8.0\n",
      "prompt-toolkit                3.0.7\n",
      "protobuf                      3.12.4\n",
      "psutil                        5.7.2\n",
      "ptyprocess                    0.6.0\n",
      "pyarrow                       1.0.1\n",
      "pycosat                       0.6.3\n",
      "pycparser                     2.20\n",
      "pycurl                        7.43.0.5\n",
      "Pygments                      2.7.1\n",
      "PyJWT                         1.7.1\n",
      "pyOpenSSL                     19.1.0\n",
      "pyparsing                     2.4.7\n",
      "pyrsistent                    0.17.3\n",
      "PySocks                       1.7.1\n",
      "python-dateutil               2.8.1\n",
      "python-editor                 1.0.4\n",
      "python-json-logger            0.1.11\n",
      "pytz                          2020.1\n",
      "PyWavelets                    1.1.1\n",
      "PyYAML                        5.3.1\n",
      "pyzmq                         19.0.2\n",
      "requests                      2.24.0\n",
      "retrying                      1.3.3\n",
      "ruamel-yaml-conda             0.15.80\n",
      "ruamel.yaml                   0.16.12\n",
      "ruamel.yaml.clib              0.2.2\n",
      "scikit-image                  0.17.2\n",
      "scikit-learn                  0.23.2\n",
      "scipy                         1.5.2\n",
      "seaborn                       0.10.1\n",
      "Send2Trash                    1.5.0\n",
      "setuptools                    49.6.0.post20200917\n",
      "six                           1.15.0\n",
      "sortedcontainers              2.2.2\n",
      "soupsieve                     2.0.1\n",
      "spylon                        0.3.0\n",
      "spylon-kernel                 0.4.1\n",
      "SQLAlchemy                    1.3.19\n",
      "statsmodels                   0.11.1\n",
      "sympy                         1.6.2\n",
      "tables                        3.6.1\n",
      "tblib                         1.6.0\n",
      "terminado                     0.8.3\n",
      "testpath                      0.4.4\n",
      "threadpoolctl                 2.1.0\n",
      "tifffile                      2020.9.3\n",
      "toolz                         0.10.0\n",
      "tornado                       6.0.4\n",
      "tqdm                          4.49.0\n",
      "traitlets                     5.0.4\n",
      "typing-extensions             3.7.4.2\n",
      "urllib3                       1.25.10\n",
      "vincent                       0.4.4\n",
      "wcwidth                       0.2.5\n",
      "webencodings                  0.5.1\n",
      "Werkzeug                      1.0.1\n",
      "wheel                         0.35.1\n",
      "widgetsnbextension            3.5.1\n",
      "xlrd                          1.2.0\n",
      "zict                          2.0.0\n",
      "zipp                          3.1.0\n",
      "Note: you may need to restart the kernel to use updated packages.\n"
     ]
    }
   ],
   "source": [
    "pip list"
   ]
  },
  {
   "cell_type": "code",
   "execution_count": 2,
   "metadata": {},
   "outputs": [
    {
     "name": "stdout",
     "output_type": "stream",
     "text": [
      "Requirement already satisfied: dash in /opt/conda/lib/python3.8/site-packages (from -r requirements.txt (line 1)) (1.19.0)\n",
      "Requirement already satisfied: dash-core-components in /opt/conda/lib/python3.8/site-packages (from -r requirements.txt (line 2)) (1.15.0)\n",
      "Requirement already satisfied: dash-html-components in /opt/conda/lib/python3.8/site-packages (from -r requirements.txt (line 3)) (1.1.2)\n",
      "Requirement already satisfied: dash-renderer in /opt/conda/lib/python3.8/site-packages (from -r requirements.txt (line 4)) (1.9.0)\n",
      "Requirement already satisfied: dash-table in /opt/conda/lib/python3.8/site-packages (from -r requirements.txt (line 5)) (4.11.2)\n",
      "Requirement already satisfied: jupyter_dash in /opt/conda/lib/python3.8/site-packages (from -r requirements.txt (line 6)) (0.4.0)\n",
      "Requirement already satisfied: Flask>=1.0.4 in /opt/conda/lib/python3.8/site-packages (from dash->-r requirements.txt (line 1)) (1.1.2)\n",
      "Requirement already satisfied: plotly in /opt/conda/lib/python3.8/site-packages (from dash->-r requirements.txt (line 1)) (4.14.3)\n",
      "Requirement already satisfied: future in /opt/conda/lib/python3.8/site-packages (from dash->-r requirements.txt (line 1)) (0.18.2)\n",
      "Requirement already satisfied: flask-compress in /opt/conda/lib/python3.8/site-packages (from dash->-r requirements.txt (line 1)) (1.8.0)\n",
      "Requirement already satisfied: requests in /opt/conda/lib/python3.8/site-packages (from jupyter_dash->-r requirements.txt (line 6)) (2.24.0)\n",
      "Requirement already satisfied: ipykernel in /opt/conda/lib/python3.8/site-packages (from jupyter_dash->-r requirements.txt (line 6)) (5.3.4)\n",
      "Requirement already satisfied: ipython in /opt/conda/lib/python3.8/site-packages (from jupyter_dash->-r requirements.txt (line 6)) (7.18.1)\n",
      "Requirement already satisfied: ansi2html in /opt/conda/lib/python3.8/site-packages (from jupyter_dash->-r requirements.txt (line 6)) (1.6.0)\n",
      "Requirement already satisfied: retrying in /opt/conda/lib/python3.8/site-packages (from jupyter_dash->-r requirements.txt (line 6)) (1.3.3)\n",
      "Requirement already satisfied: Werkzeug>=0.15 in /opt/conda/lib/python3.8/site-packages (from Flask>=1.0.4->dash->-r requirements.txt (line 1)) (1.0.1)\n",
      "Requirement already satisfied: click>=5.1 in /opt/conda/lib/python3.8/site-packages (from Flask>=1.0.4->dash->-r requirements.txt (line 1)) (7.1.2)\n",
      "Requirement already satisfied: itsdangerous>=0.24 in /opt/conda/lib/python3.8/site-packages (from Flask>=1.0.4->dash->-r requirements.txt (line 1)) (1.1.0)\n",
      "Requirement already satisfied: Jinja2>=2.10.1 in /opt/conda/lib/python3.8/site-packages (from Flask>=1.0.4->dash->-r requirements.txt (line 1)) (2.11.2)\n",
      "Requirement already satisfied: six in /opt/conda/lib/python3.8/site-packages (from plotly->dash->-r requirements.txt (line 1)) (1.15.0)\n",
      "Requirement already satisfied: brotli in /opt/conda/lib/python3.8/site-packages (from flask-compress->dash->-r requirements.txt (line 1)) (1.0.9)\n",
      "Requirement already satisfied: chardet<4,>=3.0.2 in /opt/conda/lib/python3.8/site-packages (from requests->jupyter_dash->-r requirements.txt (line 6)) (3.0.4)\n",
      "Requirement already satisfied: idna<3,>=2.5 in /opt/conda/lib/python3.8/site-packages (from requests->jupyter_dash->-r requirements.txt (line 6)) (2.10)\n",
      "Requirement already satisfied: urllib3!=1.25.0,!=1.25.1,<1.26,>=1.21.1 in /opt/conda/lib/python3.8/site-packages (from requests->jupyter_dash->-r requirements.txt (line 6)) (1.25.10)\n",
      "Requirement already satisfied: certifi>=2017.4.17 in /opt/conda/lib/python3.8/site-packages (from requests->jupyter_dash->-r requirements.txt (line 6)) (2020.6.20)\n",
      "Requirement already satisfied: jupyter-client in /opt/conda/lib/python3.8/site-packages (from ipykernel->jupyter_dash->-r requirements.txt (line 6)) (6.1.7)\n",
      "Requirement already satisfied: traitlets>=4.1.0 in /opt/conda/lib/python3.8/site-packages (from ipykernel->jupyter_dash->-r requirements.txt (line 6)) (5.0.4)\n",
      "Requirement already satisfied: tornado>=4.2 in /opt/conda/lib/python3.8/site-packages (from ipykernel->jupyter_dash->-r requirements.txt (line 6)) (6.0.4)\n",
      "Requirement already satisfied: backcall in /opt/conda/lib/python3.8/site-packages (from ipython->jupyter_dash->-r requirements.txt (line 6)) (0.2.0)\n",
      "Requirement already satisfied: setuptools>=18.5 in /opt/conda/lib/python3.8/site-packages (from ipython->jupyter_dash->-r requirements.txt (line 6)) (49.6.0.post20200917)\n",
      "Requirement already satisfied: prompt-toolkit!=3.0.0,!=3.0.1,<3.1.0,>=2.0.0 in /opt/conda/lib/python3.8/site-packages (from ipython->jupyter_dash->-r requirements.txt (line 6)) (3.0.7)\n",
      "Requirement already satisfied: jedi>=0.10 in /opt/conda/lib/python3.8/site-packages (from ipython->jupyter_dash->-r requirements.txt (line 6)) (0.17.2)\n",
      "Requirement already satisfied: pexpect>4.3; sys_platform != \"win32\" in /opt/conda/lib/python3.8/site-packages (from ipython->jupyter_dash->-r requirements.txt (line 6)) (4.8.0)\n",
      "Requirement already satisfied: decorator in /opt/conda/lib/python3.8/site-packages (from ipython->jupyter_dash->-r requirements.txt (line 6)) (4.4.2)\n",
      "Requirement already satisfied: pygments in /opt/conda/lib/python3.8/site-packages (from ipython->jupyter_dash->-r requirements.txt (line 6)) (2.7.1)\n",
      "Requirement already satisfied: pickleshare in /opt/conda/lib/python3.8/site-packages (from ipython->jupyter_dash->-r requirements.txt (line 6)) (0.7.5)\n",
      "Requirement already satisfied: MarkupSafe>=0.23 in /opt/conda/lib/python3.8/site-packages (from Jinja2>=2.10.1->Flask>=1.0.4->dash->-r requirements.txt (line 1)) (1.1.1)\n",
      "Requirement already satisfied: python-dateutil>=2.1 in /opt/conda/lib/python3.8/site-packages (from jupyter-client->ipykernel->jupyter_dash->-r requirements.txt (line 6)) (2.8.1)\n",
      "Requirement already satisfied: pyzmq>=13 in /opt/conda/lib/python3.8/site-packages (from jupyter-client->ipykernel->jupyter_dash->-r requirements.txt (line 6)) (19.0.2)\n",
      "Requirement already satisfied: jupyter-core>=4.6.0 in /opt/conda/lib/python3.8/site-packages (from jupyter-client->ipykernel->jupyter_dash->-r requirements.txt (line 6)) (4.6.3)\n",
      "Requirement already satisfied: ipython-genutils in /opt/conda/lib/python3.8/site-packages (from traitlets>=4.1.0->ipykernel->jupyter_dash->-r requirements.txt (line 6)) (0.2.0)\n",
      "Requirement already satisfied: wcwidth in /opt/conda/lib/python3.8/site-packages (from prompt-toolkit!=3.0.0,!=3.0.1,<3.1.0,>=2.0.0->ipython->jupyter_dash->-r requirements.txt (line 6)) (0.2.5)\n",
      "Requirement already satisfied: parso<0.8.0,>=0.7.0 in /opt/conda/lib/python3.8/site-packages (from jedi>=0.10->ipython->jupyter_dash->-r requirements.txt (line 6)) (0.7.1)\n",
      "Requirement already satisfied: ptyprocess>=0.5 in /opt/conda/lib/python3.8/site-packages (from pexpect>4.3; sys_platform != \"win32\"->ipython->jupyter_dash->-r requirements.txt (line 6)) (0.6.0)\n",
      "Note: you may need to restart the kernel to use updated packages.\n"
     ]
    }
   ],
   "source": [
    "pip install --trusted-host pypi.python.org -r requirements.txt"
   ]
  },
  {
   "cell_type": "code",
   "execution_count": 3,
   "metadata": {},
   "outputs": [],
   "source": [
    "# IMPORT LIBS\n",
    "# setting basics app layout : Title and plain text\n",
    "from jupyter_dash import JupyterDash\n",
    "import dash\n",
    "import dash_core_components as component\n",
    "import dash_html_components as html\n",
    "app = JupyterDash(__name__)\n",
    "app.layout = html.Div(children=[\n",
    "    html.H1(children='THE PAGE TEST'),\n",
    "    html.Div(children= 'just a tryout page to test for connexion')\n",
    "])"
   ]
  },
  {
   "cell_type": "code",
   "execution_count": 4,
   "metadata": {},
   "outputs": [
    {
     "name": "stderr",
     "output_type": "stream",
     "text": [
      " * Running on http://0.0.0.0:8050/ (Press CTRL+C to quit)\n",
      "127.0.0.1 - - [29/Jan/2021 12:22:42] \"\u001b[37mGET /_alive_108e13bd-d582-4167-8c5a-00f067fdff71 HTTP/1.1\u001b[0m\" 200 -\n"
     ]
    },
    {
     "data": {
      "text/html": [
       "\n",
       "        <iframe\n",
       "            width=\"100%\"\n",
       "            height=\"650\"\n",
       "            src=\"http://0.0.0.0:8050/\"\n",
       "            frameborder=\"0\"\n",
       "            allowfullscreen\n",
       "        ></iframe>\n",
       "        "
      ],
      "text/plain": [
       "<IPython.lib.display.IFrame at 0x7efe645066d0>"
      ]
     },
     "metadata": {},
     "output_type": "display_data"
    },
    {
     "name": "stderr",
     "output_type": "stream",
     "text": [
      "172.17.0.1 - - [29/Jan/2021 12:22:42] \"\u001b[37mGET / HTTP/1.1\u001b[0m\" 200 -\n",
      "172.17.0.1 - - [29/Jan/2021 12:22:42] \"\u001b[37mGET /_dash-component-suites/dash_renderer/react@16.v1_9_0m1611922368.14.0.min.js HTTP/1.1\u001b[0m\" 200 -\n",
      "172.17.0.1 - - [29/Jan/2021 12:22:42] \"\u001b[37mGET /_dash-component-suites/dash_renderer/prop-types@15.v1_9_0m1611922368.7.2.min.js HTTP/1.1\u001b[0m\" 200 -\n",
      "172.17.0.1 - - [29/Jan/2021 12:22:42] \"\u001b[37mGET /_dash-component-suites/dash_renderer/polyfill@7.v1_9_0m1611922368.8.7.min.js HTTP/1.1\u001b[0m\" 200 -\n",
      "172.17.0.1 - - [29/Jan/2021 12:22:42] \"\u001b[37mGET /_dash-component-suites/dash_core_components/dash_core_components-shared.v1_15_0m1611922368.js HTTP/1.1\u001b[0m\" 200 -\n",
      "172.17.0.1 - - [29/Jan/2021 12:22:42] \"\u001b[37mGET /_dash-component-suites/dash_html_components/dash_html_components.v1_1_2m1611922368.min.js HTTP/1.1\u001b[0m\" 200 -\n",
      "172.17.0.1 - - [29/Jan/2021 12:22:42] \"\u001b[37mGET /_dash-component-suites/dash_renderer/react-dom@16.v1_9_0m1611922368.14.0.min.js HTTP/1.1\u001b[0m\" 200 -\n",
      "172.17.0.1 - - [29/Jan/2021 12:22:42] \"\u001b[37mGET /_dash-component-suites/dash_renderer/dash_renderer.v1_9_0m1611922368.min.js HTTP/1.1\u001b[0m\" 200 -\n",
      "172.17.0.1 - - [29/Jan/2021 12:22:42] \"\u001b[37mGET /_dash-component-suites/dash_core_components/dash_core_components.v1_15_0m1611922368.min.js HTTP/1.1\u001b[0m\" 200 -\n",
      "172.17.0.1 - - [29/Jan/2021 12:22:42] \"\u001b[37mGET /_dash-layout HTTP/1.1\u001b[0m\" 200 -\n",
      "172.17.0.1 - - [29/Jan/2021 12:22:42] \"\u001b[37mGET /_dash-dependencies HTTP/1.1\u001b[0m\" 200 -\n"
     ]
    }
   ],
   "source": [
    "# running app\n",
    "app.run_server(mode=\"inline\", host='0.0.0.0', port='8050', debug=False)"
   ]
  },
  {
   "cell_type": "code",
   "execution_count": 14,
   "metadata": {},
   "outputs": [
    {
     "name": "stderr",
     "output_type": "stream",
     "text": [
      "127.0.0.1 - - [29/Jan/2021 11:35:13] \"\u001b[37mGET /_shutdown_07b2ba5a-a534-43d3-85fd-bea621a72892 HTTP/1.1\u001b[0m\" 200 -\n",
      " * Running on http://127.0.0.1:8050/ (Press CTRL+C to quit)\n",
      "127.0.0.1 - - [29/Jan/2021 11:35:13] \"\u001b[37mGET /_alive_07b2ba5a-a534-43d3-85fd-bea621a72892 HTTP/1.1\u001b[0m\" 200 -\n"
     ]
    },
    {
     "data": {
      "text/html": [
       "\n",
       "        <iframe\n",
       "            width=\"100%\"\n",
       "            height=\"650\"\n",
       "            src=\"http://127.0.0.1:8050/\"\n",
       "            frameborder=\"0\"\n",
       "            allowfullscreen\n",
       "        ></iframe>\n",
       "        "
      ],
      "text/plain": [
       "<IPython.lib.display.IFrame at 0x7fa67d6a7940>"
      ]
     },
     "metadata": {},
     "output_type": "display_data"
    }
   ],
   "source": [
    "# ADRESS 127.0.0.1 does not work on jupiter lab\n",
    "app.run_server(mode=\"inline\", host='127.0.0.1', port='8050', debug=False)"
   ]
  },
  {
   "cell_type": "code",
   "execution_count": 15,
   "metadata": {},
   "outputs": [
    {
     "name": "stderr",
     "output_type": "stream",
     "text": [
      "127.0.0.1 - - [29/Jan/2021 11:35:28] \"\u001b[37mGET /_shutdown_07b2ba5a-a534-43d3-85fd-bea621a72892 HTTP/1.1\u001b[0m\" 200 -\n"
     ]
    },
    {
     "data": {
      "text/html": [
       "\n",
       "        <iframe\n",
       "            width=\"100%\"\n",
       "            height=\"650\"\n",
       "            src=\"http://0.0.0.0:8050/\"\n",
       "            frameborder=\"0\"\n",
       "            allowfullscreen\n",
       "        ></iframe>\n",
       "        "
      ],
      "text/plain": [
       "<IPython.lib.display.IFrame at 0x7fa633fc34c0>"
      ]
     },
     "metadata": {},
     "output_type": "display_data"
    }
   ],
   "source": [
    "# ANOTHER LAYOUT with more components\n",
    "import plotly.express as px\n",
    "from jupyter_dash import JupyterDash\n",
    "import dash_core_components as dcc\n",
    "import dash_html_components as html\n",
    "from dash.dependencies import Input, Output# Load Data\n",
    "df = px.data.tips()# Build App\n",
    "app = JupyterDash(__name__)\n",
    "app.layout = html.Div([\n",
    "    html.H1(\"JupyterDash Demo\"),\n",
    "    dcc.Graph(id='graph'),\n",
    "    html.Label([\n",
    "        \"colorscale\",\n",
    "        dcc.Dropdown(\n",
    "            id='colorscale-dropdown', clearable=False,\n",
    "            value='plasma', options=[\n",
    "                {'label': c, 'value': c}\n",
    "                for c in px.colors.named_colorscales()\n",
    "            ])\n",
    "    ]),\n",
    "])# Define callback to update graph\n",
    "@app.callback(\n",
    "    Output('graph', 'figure'),\n",
    "    [Input(\"colorscale-dropdown\", \"value\")]\n",
    ")\n",
    "def update_figure(colorscale):\n",
    "    return px.scatter(\n",
    "        df, x=\"total_bill\", y=\"tip\", color=\"size\",\n",
    "        color_continuous_scale=colorscale,\n",
    "        render_mode=\"webgl\", title=\"Tips\"\n",
    "    )# Run app and display result inline in the notebook\n",
    "app.run_server(mode='inline',host='0.0.0.0')"
   ]
  },
  {
   "cell_type": "code",
   "execution_count": null,
   "metadata": {},
   "outputs": [],
   "source": []
  }
 ],
 "metadata": {
  "kernelspec": {
   "display_name": "Python 3",
   "language": "python",
   "name": "python3"
  },
  "language_info": {
   "codemirror_mode": {
    "name": "ipython",
    "version": 3
   },
   "file_extension": ".py",
   "mimetype": "text/x-python",
   "name": "python",
   "nbconvert_exporter": "python",
   "pygments_lexer": "ipython3",
   "version": "3.8.5"
  }
 },
 "nbformat": 4,
 "nbformat_minor": 4
}
